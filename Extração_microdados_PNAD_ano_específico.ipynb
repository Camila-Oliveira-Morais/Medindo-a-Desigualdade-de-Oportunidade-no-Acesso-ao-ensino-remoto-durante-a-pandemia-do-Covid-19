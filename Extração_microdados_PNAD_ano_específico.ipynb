{
  "cells": [
    {
      "cell_type": "markdown",
      "metadata": {
        "id": "view-in-github",
        "colab_type": "text"
      },
      "source": [
        "<a href=\"https://colab.research.google.com/github/Camila-Oliveira-Morais/Medindo-a-Desigualdade-de-Oportunidade-no-Acesso-ao-ensino-remoto-durante-a-pandemia-do-Covid-19/blob/main/Extra%C3%A7%C3%A3o_microdados_PNAD_ano_espec%C3%ADfico.ipynb\" target=\"_parent\"><img src=\"https://colab.research.google.com/assets/colab-badge.svg\" alt=\"Open In Colab\"/></a>"
      ]
    },
    {
      "cell_type": "markdown",
      "metadata": {
        "id": "GpfzzWtQ-D_7"
      },
      "source": [
        "Esse script permite coletar dados da PNAD de um ano em específico"
      ]
    },
    {
      "cell_type": "markdown",
      "metadata": {
        "id": "gfzgHsK9_Lyh"
      },
      "source": [
        "Esse script permite coletar dados da PNAD de um ano em específico"
      ]
    },
    {
      "cell_type": "markdown",
      "metadata": {
        "id": "w4ImaXuB_Lyi"
      },
      "source": [
        "**Instalar bibliotecas**\n",
        "\n"
      ]
    },
    {
      "cell_type": "code",
      "execution_count": null,
      "metadata": {
        "colab": {
          "base_uri": "https://localhost:8080/"
        },
        "id": "OYPzwL4c_Lyi",
        "outputId": "c4b1f284-f297-476a-a0b1-19539bad624d"
      },
      "outputs": [
        {
          "output_type": "stream",
          "name": "stderr",
          "text": [
            "Installing package into ‘/usr/local/lib/R/site-library’\n",
            "(as ‘lib’ is unspecified)\n",
            "\n",
            "also installing the dependencies ‘bitops’, ‘minqa’, ‘numDeriv’, ‘mitools’, ‘RcppArmadillo’, ‘projmgr’, ‘RCurl’, ‘survey’, ‘timeDate’\n",
            "\n",
            "\n",
            "Installing package into ‘/usr/local/lib/R/site-library’\n",
            "(as ‘lib’ is unspecified)\n",
            "\n",
            "Installing package into ‘/usr/local/lib/R/site-library’\n",
            "(as ‘lib’ is unspecified)\n",
            "\n",
            "Installing package into ‘/usr/local/lib/R/site-library’\n",
            "(as ‘lib’ is unspecified)\n",
            "\n",
            "Installing package into ‘/usr/local/lib/R/site-library’\n",
            "(as ‘lib’ is unspecified)\n",
            "\n",
            "Installing package into ‘/usr/local/lib/R/site-library’\n",
            "(as ‘lib’ is unspecified)\n",
            "\n"
          ]
        }
      ],
      "source": [
        "install.packages(\"PNADcIBGE\")\n",
        "install.packages(\"writexl\")\n",
        "install.packages(\"srvyr\")\n",
        "install.packages(\"readxl\")\n",
        "install.packages(\"survey\")\n",
        "install.packages(\"googledrive\")"
      ]
    },
    {
      "cell_type": "markdown",
      "metadata": {
        "id": "L_905E8m_Lyj"
      },
      "source": [
        "**Carregar bibliotecas**"
      ]
    },
    {
      "cell_type": "code",
      "execution_count": null,
      "metadata": {
        "colab": {
          "base_uri": "https://localhost:8080/"
        },
        "id": "YpwTa0eK_Lyj",
        "outputId": "0e555023-37ef-4103-feb4-a3c769dff308"
      },
      "outputs": [
        {
          "output_type": "stream",
          "name": "stderr",
          "text": [
            "Loading required package: grid\n",
            "\n",
            "Loading required package: Matrix\n",
            "\n",
            "Loading required package: survival\n",
            "\n",
            "\n",
            "Attaching package: ‘survey’\n",
            "\n",
            "\n",
            "The following object is masked from ‘package:graphics’:\n",
            "\n",
            "    dotchart\n",
            "\n",
            "\n",
            "\n",
            "Attaching package: ‘srvyr’\n",
            "\n",
            "\n",
            "The following object is masked from ‘package:stats’:\n",
            "\n",
            "    filter\n",
            "\n",
            "\n"
          ]
        }
      ],
      "source": [
        "library(PNADcIBGE)\n",
        "library(writexl)\n",
        "library(readxl)\n",
        "library(survey)\n",
        "library (srvyr)\n",
        "library(googledrive)"
      ]
    },
    {
      "cell_type": "markdown",
      "metadata": {
        "id": "kl7_07Tj_Lyk"
      },
      "source": [
        "**Selecionar variáveis**\n",
        "\n",
        "A função variriaveis =c combina elementos de um vetor e está sendo usada para criar um vetor que contém os elementos especificados dentro dos parênteses. Assim quando chamamos a função get_pnadc no bloco de código abaixo, quando criamos o dataframe de resultados podemos usar esse vetor como um filtro acrescentendo vars = variaveis. Caso deseje extrair todas as variáveis basta deixar sem nada preenchido na função get_pnadc em relação a variáveis.\n",
        "\n",
        "\n",
        "\n",
        "A seleção das variáveis é atráves do código delas. Para saber a relação entre código e nome da variável olhar o dicionário da PNAD em: https://www.ibge.gov.br/estatisticas/sociais/trabalho/17270-pnad-continua.html?=&t=downloads\n",
        "\n",
        "caminho>> divulgação trimestral/downloads/trimestral/microdados/documentação\n",
        "\n",
        "existe também uma cópia da última versão do dicionário salva nos arquivos desse script"
      ]
    },
    {
      "cell_type": "code",
      "execution_count": null,
      "metadata": {
        "id": "2199Y4L7_Lyk"
      },
      "outputs": [],
      "source": [
        "variaveis_selecionadas <- c(\"V1014\", \"V1028\", \"UF\",\"Capital\", \"V1022\", \"V2005\", \"V2007\", \"V2009\", \"V2010\", \"V4005\", \"V4013\", \"VD2003\", \"VD3005\", \"VD4001\", \"VD4002\", \"VD4003\", \"VD4004A\", \"VD4009\", \"VD4012\", \"VD4016\", \"VD4017\", \"VD4019\", \"VD4020\", \"VD4031\", \"VD4032\", \"VD4035\")\n",
        "variaveis =c(\"V1014\", \"V1028\", \"UF\",\"Capital\", \"V1022\", \"V2005\", \"V2007\", \"V2009\", \"V2010\", \"V4005\", \"V4013\", \"VD2003\", \"VD3005\", \"VD4001\", \"VD4002\", \"VD4003\", \"VD4004A\", \"VD4009\", \"VD4012\", \"VD4016\", \"VD4017\", \"VD4019\", \"VD4020\", \"VD4031\", \"VD4032\", \"VD4035\")\n",
        "Anos=c(2023)\n",
        "Trimestres=c(1,2,3,4)"
      ]
    },
    {
      "cell_type": "markdown",
      "metadata": {
        "id": "f9tJ8v92_Lyk"
      },
      "source": [
        "**Limpando dados indesejáveis**"
      ]
    },
    {
      "cell_type": "code",
      "execution_count": null,
      "metadata": {
        "colab": {
          "base_uri": "https://localhost:8080/",
          "height": 462
        },
        "id": "Q2X-SSL-_Lyl",
        "outputId": "454d8a7b-b412-4385-ee96-e668824c6ca5"
      },
      "outputs": [
        {
          "output_type": "stream",
          "name": "stdout",
          "text": [
            "[1] \"Carregou dados para 2023 trimestre 1\"\n",
            "[1] \"Carregou dados para 2023 trimestre 2\"\n",
            "[1] \"Carregou dados para 2023 trimestre 3\"\n",
            "[1] \"Carregou dados para 2023 trimestre 4\"\n"
          ]
        },
        {
          "output_type": "display_data",
          "data": {
            "text/html": [
              "<table class=\"dataframe\">\n",
              "<caption>A tibble: 6 × 223</caption>\n",
              "<thead>\n",
              "\t<tr><th scope=col>Ano</th><th scope=col>Trimestre</th><th scope=col>UF</th><th scope=col>Capital</th><th scope=col>RM_RIDE</th><th scope=col>UPA</th><th scope=col>Estrato</th><th scope=col>V1008</th><th scope=col>V1014</th><th scope=col>V1016</th><th scope=col>⋯</th><th scope=col>VD4031</th><th scope=col>VD4032</th><th scope=col>VD4033</th><th scope=col>VD4034</th><th scope=col>VD4035</th><th scope=col>VD4036</th><th scope=col>VD4037</th><th scope=col>ID_DOMICILIO</th><th scope=col>Habitual</th><th scope=col>Efetivo</th></tr>\n",
              "\t<tr><th scope=col>&lt;chr&gt;</th><th scope=col>&lt;chr&gt;</th><th scope=col>&lt;fct&gt;</th><th scope=col>&lt;fct&gt;</th><th scope=col>&lt;fct&gt;</th><th scope=col>&lt;chr&gt;</th><th scope=col>&lt;chr&gt;</th><th scope=col>&lt;chr&gt;</th><th scope=col>&lt;chr&gt;</th><th scope=col>&lt;chr&gt;</th><th scope=col>⋯</th><th scope=col>&lt;dbl&gt;</th><th scope=col>&lt;dbl&gt;</th><th scope=col>&lt;dbl&gt;</th><th scope=col>&lt;dbl&gt;</th><th scope=col>&lt;dbl&gt;</th><th scope=col>&lt;fct&gt;</th><th scope=col>&lt;fct&gt;</th><th scope=col>&lt;chr&gt;</th><th scope=col>&lt;dbl&gt;</th><th scope=col>&lt;dbl&gt;</th></tr>\n",
              "</thead>\n",
              "<tbody>\n",
              "\t<tr><td>2023</td><td>1</td><td>Santa Catarina</td><td>Município de Florianópolis (SC)</td><td>Região Metropolitana de Florianópolis (SC)</td><td>420006288</td><td>4210011</td><td>01</td><td>10</td><td>5</td><td>⋯</td><td>55</td><td>NA</td><td>NA</td><td>NA</td><td>55</td><td>49 horas ou mais</td><td>49 horas ou mais</td><td>4200062880110</td><td>1.052215</td><td>1.059775</td></tr>\n",
              "\t<tr><td>2023</td><td>1</td><td>Santa Catarina</td><td>Município de Florianópolis (SC)</td><td>Região Metropolitana de Florianópolis (SC)</td><td>420006288</td><td>4210011</td><td>01</td><td>10</td><td>5</td><td>⋯</td><td>55</td><td>NA</td><td>NA</td><td>NA</td><td>55</td><td>49 horas ou mais</td><td>49 horas ou mais</td><td>4200062880110</td><td>1.052215</td><td>1.059775</td></tr>\n",
              "\t<tr><td>2023</td><td>1</td><td>Santa Catarina</td><td>Município de Florianópolis (SC)</td><td>Região Metropolitana de Florianópolis (SC)</td><td>420006288</td><td>4210011</td><td>02</td><td>10</td><td>5</td><td>⋯</td><td>NA</td><td>NA</td><td>NA</td><td>NA</td><td>NA</td><td>NA              </td><td>NA              </td><td>4200062880210</td><td>1.052215</td><td>1.059775</td></tr>\n",
              "\t<tr><td>2023</td><td>1</td><td>Santa Catarina</td><td>Município de Florianópolis (SC)</td><td>Região Metropolitana de Florianópolis (SC)</td><td>420006288</td><td>4210011</td><td>02</td><td>10</td><td>5</td><td>⋯</td><td>35</td><td>NA</td><td>NA</td><td>NA</td><td>35</td><td>15 a 39 horas   </td><td>15 a 39 horas   </td><td>4200062880210</td><td>1.052215</td><td>1.059775</td></tr>\n",
              "\t<tr><td>2023</td><td>1</td><td>Santa Catarina</td><td>Município de Florianópolis (SC)</td><td>Região Metropolitana de Florianópolis (SC)</td><td>420006288</td><td>4210011</td><td>02</td><td>10</td><td>5</td><td>⋯</td><td>NA</td><td>NA</td><td>NA</td><td>NA</td><td>NA</td><td>NA              </td><td>NA              </td><td>4200062880210</td><td>1.052215</td><td>1.059775</td></tr>\n",
              "\t<tr><td>2023</td><td>1</td><td>Santa Catarina</td><td>Município de Florianópolis (SC)</td><td>Região Metropolitana de Florianópolis (SC)</td><td>420006288</td><td>4210011</td><td>02</td><td>10</td><td>5</td><td>⋯</td><td>50</td><td>NA</td><td>NA</td><td>NA</td><td>50</td><td>49 horas ou mais</td><td>49 horas ou mais</td><td>4200062880210</td><td>1.052215</td><td>1.059775</td></tr>\n",
              "</tbody>\n",
              "</table>\n"
            ],
            "text/markdown": "\nA tibble: 6 × 223\n\n| Ano &lt;chr&gt; | Trimestre &lt;chr&gt; | UF &lt;fct&gt; | Capital &lt;fct&gt; | RM_RIDE &lt;fct&gt; | UPA &lt;chr&gt; | Estrato &lt;chr&gt; | V1008 &lt;chr&gt; | V1014 &lt;chr&gt; | V1016 &lt;chr&gt; | ⋯ ⋯ | VD4031 &lt;dbl&gt; | VD4032 &lt;dbl&gt; | VD4033 &lt;dbl&gt; | VD4034 &lt;dbl&gt; | VD4035 &lt;dbl&gt; | VD4036 &lt;fct&gt; | VD4037 &lt;fct&gt; | ID_DOMICILIO &lt;chr&gt; | Habitual &lt;dbl&gt; | Efetivo &lt;dbl&gt; |\n|---|---|---|---|---|---|---|---|---|---|---|---|---|---|---|---|---|---|---|---|---|\n| 2023 | 1 | Santa Catarina | Município de Florianópolis (SC) | Região Metropolitana de Florianópolis (SC) | 420006288 | 4210011 | 01 | 10 | 5 | ⋯ | 55 | NA | NA | NA | 55 | 49 horas ou mais | 49 horas ou mais | 4200062880110 | 1.052215 | 1.059775 |\n| 2023 | 1 | Santa Catarina | Município de Florianópolis (SC) | Região Metropolitana de Florianópolis (SC) | 420006288 | 4210011 | 01 | 10 | 5 | ⋯ | 55 | NA | NA | NA | 55 | 49 horas ou mais | 49 horas ou mais | 4200062880110 | 1.052215 | 1.059775 |\n| 2023 | 1 | Santa Catarina | Município de Florianópolis (SC) | Região Metropolitana de Florianópolis (SC) | 420006288 | 4210011 | 02 | 10 | 5 | ⋯ | NA | NA | NA | NA | NA | NA               | NA               | 4200062880210 | 1.052215 | 1.059775 |\n| 2023 | 1 | Santa Catarina | Município de Florianópolis (SC) | Região Metropolitana de Florianópolis (SC) | 420006288 | 4210011 | 02 | 10 | 5 | ⋯ | 35 | NA | NA | NA | 35 | 15 a 39 horas    | 15 a 39 horas    | 4200062880210 | 1.052215 | 1.059775 |\n| 2023 | 1 | Santa Catarina | Município de Florianópolis (SC) | Região Metropolitana de Florianópolis (SC) | 420006288 | 4210011 | 02 | 10 | 5 | ⋯ | NA | NA | NA | NA | NA | NA               | NA               | 4200062880210 | 1.052215 | 1.059775 |\n| 2023 | 1 | Santa Catarina | Município de Florianópolis (SC) | Região Metropolitana de Florianópolis (SC) | 420006288 | 4210011 | 02 | 10 | 5 | ⋯ | 50 | NA | NA | NA | 50 | 49 horas ou mais | 49 horas ou mais | 4200062880210 | 1.052215 | 1.059775 |\n\n",
            "text/latex": "A tibble: 6 × 223\n\\begin{tabular}{lllllllllllllllllllll}\n Ano & Trimestre & UF & Capital & RM\\_RIDE & UPA & Estrato & V1008 & V1014 & V1016 & ⋯ & VD4031 & VD4032 & VD4033 & VD4034 & VD4035 & VD4036 & VD4037 & ID\\_DOMICILIO & Habitual & Efetivo\\\\\n <chr> & <chr> & <fct> & <fct> & <fct> & <chr> & <chr> & <chr> & <chr> & <chr> & ⋯ & <dbl> & <dbl> & <dbl> & <dbl> & <dbl> & <fct> & <fct> & <chr> & <dbl> & <dbl>\\\\\n\\hline\n\t 2023 & 1 & Santa Catarina & Município de Florianópolis (SC) & Região Metropolitana de Florianópolis (SC) & 420006288 & 4210011 & 01 & 10 & 5 & ⋯ & 55 & NA & NA & NA & 55 & 49 horas ou mais & 49 horas ou mais & 4200062880110 & 1.052215 & 1.059775\\\\\n\t 2023 & 1 & Santa Catarina & Município de Florianópolis (SC) & Região Metropolitana de Florianópolis (SC) & 420006288 & 4210011 & 01 & 10 & 5 & ⋯ & 55 & NA & NA & NA & 55 & 49 horas ou mais & 49 horas ou mais & 4200062880110 & 1.052215 & 1.059775\\\\\n\t 2023 & 1 & Santa Catarina & Município de Florianópolis (SC) & Região Metropolitana de Florianópolis (SC) & 420006288 & 4210011 & 02 & 10 & 5 & ⋯ & NA & NA & NA & NA & NA & NA               & NA               & 4200062880210 & 1.052215 & 1.059775\\\\\n\t 2023 & 1 & Santa Catarina & Município de Florianópolis (SC) & Região Metropolitana de Florianópolis (SC) & 420006288 & 4210011 & 02 & 10 & 5 & ⋯ & 35 & NA & NA & NA & 35 & 15 a 39 horas    & 15 a 39 horas    & 4200062880210 & 1.052215 & 1.059775\\\\\n\t 2023 & 1 & Santa Catarina & Município de Florianópolis (SC) & Região Metropolitana de Florianópolis (SC) & 420006288 & 4210011 & 02 & 10 & 5 & ⋯ & NA & NA & NA & NA & NA & NA               & NA               & 4200062880210 & 1.052215 & 1.059775\\\\\n\t 2023 & 1 & Santa Catarina & Município de Florianópolis (SC) & Região Metropolitana de Florianópolis (SC) & 420006288 & 4210011 & 02 & 10 & 5 & ⋯ & 50 & NA & NA & NA & 50 & 49 horas ou mais & 49 horas ou mais & 4200062880210 & 1.052215 & 1.059775\\\\\n\\end{tabular}\n",
            "text/plain": [
              "  Ano  Trimestre UF             Capital                        \n",
              "1 2023 1         Santa Catarina Município de Florianópolis (SC)\n",
              "2 2023 1         Santa Catarina Município de Florianópolis (SC)\n",
              "3 2023 1         Santa Catarina Município de Florianópolis (SC)\n",
              "4 2023 1         Santa Catarina Município de Florianópolis (SC)\n",
              "5 2023 1         Santa Catarina Município de Florianópolis (SC)\n",
              "6 2023 1         Santa Catarina Município de Florianópolis (SC)\n",
              "  RM_RIDE                                    UPA       Estrato V1008 V1014\n",
              "1 Região Metropolitana de Florianópolis (SC) 420006288 4210011 01    10   \n",
              "2 Região Metropolitana de Florianópolis (SC) 420006288 4210011 01    10   \n",
              "3 Região Metropolitana de Florianópolis (SC) 420006288 4210011 02    10   \n",
              "4 Região Metropolitana de Florianópolis (SC) 420006288 4210011 02    10   \n",
              "5 Região Metropolitana de Florianópolis (SC) 420006288 4210011 02    10   \n",
              "6 Região Metropolitana de Florianópolis (SC) 420006288 4210011 02    10   \n",
              "  V1016 ⋯ VD4031 VD4032 VD4033 VD4034 VD4035 VD4036           VD4037          \n",
              "1 5     ⋯ 55     NA     NA     NA     55     49 horas ou mais 49 horas ou mais\n",
              "2 5     ⋯ 55     NA     NA     NA     55     49 horas ou mais 49 horas ou mais\n",
              "3 5     ⋯ NA     NA     NA     NA     NA     NA               NA              \n",
              "4 5     ⋯ 35     NA     NA     NA     35     15 a 39 horas    15 a 39 horas   \n",
              "5 5     ⋯ NA     NA     NA     NA     NA     NA               NA              \n",
              "6 5     ⋯ 50     NA     NA     NA     50     49 horas ou mais 49 horas ou mais\n",
              "  ID_DOMICILIO  Habitual Efetivo \n",
              "1 4200062880110 1.052215 1.059775\n",
              "2 4200062880110 1.052215 1.059775\n",
              "3 4200062880210 1.052215 1.059775\n",
              "4 4200062880210 1.052215 1.059775\n",
              "5 4200062880210 1.052215 1.059775\n",
              "6 4200062880210 1.052215 1.059775"
            ]
          },
          "metadata": {}
        }
      ],
      "source": [
        "# Inicializando o dataframe de resultados\n",
        "resultado <- NULL\n",
        "\n",
        "for (i in 1:length(Anos)) {\n",
        "  for (j in 1:length(Trimestres)) {\n",
        "    dadostrim <- tryCatch(\n",
        "      get_pnadc(year = Anos[i], quarter = Trimestres[j], design = FALSE, labels = TRUE),\n",
        "      error = function(e) NULL\n",
        "    )\n",
        "\n",
        "    if (!is.null(dadostrim)) {\n",
        "      dadostrim <- subset(dadostrim, UF == \"Santa Catarina\")\n",
        "      dadostrim <- dadostrim %>% select(-starts_with(\"V10280\"), -starts_with(\"V10281\"), -starts_with(\"V10282\"))\n",
        "\n",
        "      if (is.null(resultado)) {\n",
        "        resultado <- dadostrim\n",
        "      } else {\n",
        "        resultado <- rbind(resultado, dadostrim)\n",
        "      }\n",
        "\n",
        "      print(paste(\"Carregou dados para\", Anos[i], \"trimestre\", Trimestres[j]))\n",
        "    } else {\n",
        "      print(paste(\"Dados não disponíveis para\", Anos[i], \"trimestre\", Trimestres[j]))\n",
        "    }\n",
        "  }\n",
        "}\n",
        "\n",
        "# Definir a função selecionar_variaveis\n",
        "selecionar_variaveis <- function(df, variaveis_selecionadas) {\n",
        "  df_selecionado <- df[, colnames(df) %in% variaveis_selecionadas, drop = FALSE]\n",
        "  return(df_selecionado)\n",
        "}\n",
        "\n",
        "# Realizando operações adicionais, se necessário, no dataframe resultado (acrescentar na linha abaixo)\n",
        "\n",
        "\n",
        "# Exibindo as primeiras linhas do dataframe resultado\n",
        "head(resultado)"
      ]
    },
    {
      "cell_type": "markdown",
      "metadata": {
        "id": "uc81MYyv_Lyl"
      },
      "source": [
        "**Escrevendo e salvando arquivo em excel**\n",
        "\n",
        "A primeira vez que você excecutar o script aparecerá um link que abrirá uma nova guia no google, essa guia se refere a biblioteca tidyverse e terá um código de verificação que deve ser copiado e colado no prompt de comando que aparece no script, enquanto isso não for feito o script fica rodando.\n",
        "\n",
        "Se é seu segundo acesso a visualização da caixa de saída será diferente, aparecerá seu e-mail como opção 2. Você deve preencher o prompt de comando com o número 2, isso indica que você forneceu o acesso ao seu google drive anteriormente sem necessidade de repetir o processo."
      ]
    },
    {
      "cell_type": "code",
      "execution_count": null,
      "metadata": {
        "colab": {
          "base_uri": "https://localhost:8080/"
        },
        "id": "v8bRb_6i_Lym",
        "outputId": "b1cb849c-bbcc-4627-ead6-dbd0969fa144"
      },
      "outputs": [
        {
          "output_type": "stream",
          "name": "stderr",
          "text": [
            "Please point your browser to the following url: \n",
            "\n",
            "https://accounts.google.com/o/oauth2/v2/auth?client_id=603366585132-frjlouoa3s2ono25d2l9ukvhlsrlnr7k.apps.googleusercontent.com&scope=https%3A%2F%2Fwww.googleapis.com%2Fauth%2Fdrive%20https%3A%2F%2Fwww.googleapis.com%2Fauth%2Fuserinfo.email&redirect_uri=https%3A%2F%2Fwww.tidyverse.org%2Fgoogle-callback%2F&response_type=code&state=e04dc1dec8e24490e56653ae42ef0357&access_type=offline&prompt=consent\n",
            "\n",
            "Local file:\n",
            "\n",
            "• \u001b[34mdados_resultado_PNAD.xlsx\u001b[39m\n",
            "\n",
            "Uploaded into Drive file:\n",
            "\n",
            "• \u001b[36mdados_resultado.PNAD.xlsx\u001b[39m \u001b[90m<id: 1np-uGFUAvKdu_wGlSWqP7tdvBagORpow>\u001b[39m\n",
            "\n",
            "With MIME type:\n",
            "\n",
            "• \u001b[32mapplication/vnd.openxmlformats-officedocument.spreadsheetml.sheet\u001b[39m\n",
            "\n"
          ]
        }
      ],
      "source": [
        "# Autenticas e autorizar o acesso ao Google Drive:\n",
        "drive_auth(use_oob = TRUE, cache = TRUE)\n",
        "\n",
        "#gravando os dados em um arquivo Excel local\n",
        "write_xlsx(resultado, \"dados_resultado_PNAD.xlsx\")\n",
        "\n",
        "#Upload do arquivo para o Google Drive\n",
        "drive_upload(\"dados_resultado_PNAD.xlsx\", name = \"dados_resultado.PNAD.xlsx\", type = \"xlsx\")\n",
        "\n",
        "# Vai abrir um link do google accounts que abrirá em uma caixa abaixo, ele direcionará você para uma página de\n",
        "# pacotes de API Tidyverse onde terá as instruções para você copiar o código autorizando a bibliote a gravar o arquivo excel com os dados dentro do SEU GOOGLE DRIVE"
      ]
    },
    {
      "cell_type": "markdown",
      "metadata": {
        "id": "WxPtF-EJHn50"
      },
      "source": [
        "**Instalar bibliotecas**\n",
        "\n"
      ]
    },
    {
      "cell_type": "code",
      "execution_count": null,
      "metadata": {
        "id": "TCvo9l_qHwpA"
      },
      "outputs": [],
      "source": [
        "install.packages(\"PNADcIBGE\")\n",
        "install.packages(\"writexl\")\n",
        "install.packages(\"srvyr\")\n",
        "install.packages(\"readxl\")\n",
        "install.packages(\"survey\")\n",
        "install.packages(\"googledrive\")"
      ]
    },
    {
      "cell_type": "markdown",
      "metadata": {
        "id": "Z4LnLxtcIYFb"
      },
      "source": [
        "**Carregar bibliotecas**"
      ]
    },
    {
      "cell_type": "code",
      "execution_count": null,
      "metadata": {
        "id": "lJwzTSZmIbNm"
      },
      "outputs": [],
      "source": [
        "library(PNADcIBGE)\n",
        "library(writexl)\n",
        "library(readxl)\n",
        "library(survey)\n",
        "library (srvyr)\n",
        "library(googledrive)"
      ]
    },
    {
      "cell_type": "markdown",
      "metadata": {
        "id": "QAXYSoo8JUD0"
      },
      "source": [
        "**Selecionar variáveis**\n",
        "\n",
        "A função variriaveis =c combina elementos de um vetor e está sendo usada para criar um vetor que contém os elementos especificados dentro dos parênteses. Assim quando chamamos a função get_pnadc no bloco de código abaixo, quando criamos o dataframe de resultados podemos usar esse vetor como um filtro acrescentendo vars = variaveis. Caso deseje extrair todas as variáveis basta deixar sem nada preenchido na função get_pnadc em relação a variáveis.\n",
        "\n",
        "\n",
        "\n",
        "A seleção das variáveis é atráves do código delas. Para saber a relação entre código e nome da variável olhar o dicionário da PNAD em: https://www.ibge.gov.br/estatisticas/sociais/trabalho/17270-pnad-continua.html?=&t=downloads\n",
        "\n",
        "caminho>> divulgação trimestral/downloads/trimestral/microdados/documentação\n",
        "\n",
        "existe também uma cópia da última versão do dicionário salva nos arquivos desse script"
      ]
    },
    {
      "cell_type": "code",
      "execution_count": null,
      "metadata": {
        "id": "I7Jvxg-fJXQm"
      },
      "outputs": [],
      "source": [
        "variaveis_selecionadas <- c(\"V1014\", \"V1028\", \"UF\",\"Capital\", \"V1022\", \"V2005\", \"V2007\", \"V2009\", \"V2010\", \"V4005\", \"V4013\", \"VD2003\", \"VD3005\", \"VD4001\", \"VD4002\", \"VD4003\", \"VD4004A\", \"VD4009\", \"VD4012\", \"VD4016\", \"VD4017\", \"VD4019\", \"VD4020\", \"VD4031\", \"VD4032\", \"VD4035\")\n",
        "variaveis =c(\"V1014\", \"V1028\", \"UF\",\"Capital\", \"V1022\", \"V2005\", \"V2007\", \"V2009\", \"V2010\", \"V4005\", \"V4013\", \"VD2003\", \"VD3005\", \"VD4001\", \"VD4002\", \"VD4003\", \"VD4004A\", \"VD4009\", \"VD4012\", \"VD4016\", \"VD4017\", \"VD4019\", \"VD4020\", \"VD4031\", \"VD4032\", \"VD4035\")\n",
        "Anos=c(2023)\n",
        "Trimestres=c(1,2,3,4)"
      ]
    },
    {
      "cell_type": "markdown",
      "metadata": {
        "id": "aKswfACYKd7G"
      },
      "source": [
        "**Limpando dados indesejáveis**"
      ]
    },
    {
      "cell_type": "code",
      "execution_count": null,
      "metadata": {
        "id": "S1HTQzi2KkVT"
      },
      "outputs": [],
      "source": [
        "# Inicializando o dataframe de resultados\n",
        "resultado <- NULL\n",
        "\n",
        "for (i in 1:length(Anos)) {\n",
        "  for (j in 1:length(Trimestres)) {\n",
        "    dadostrim <- tryCatch(\n",
        "      get_pnadc(year = Anos[i], quarter = Trimestres[j], design = FALSE, labels = TRUE),\n",
        "      error = function(e) NULL\n",
        "    )\n",
        "\n",
        "    if (!is.null(dadostrim)) {\n",
        "      dadostrim <- subset(dadostrim, UF == \"Santa Catarina\")\n",
        "      dadostrim <- dadostrim %>% select(-starts_with(\"V10280\"), -starts_with(\"V10281\"), -starts_with(\"V10282\"))\n",
        "\n",
        "      if (is.null(resultado)) {\n",
        "        resultado <- dadostrim\n",
        "      } else {\n",
        "        resultado <- rbind(resultado, dadostrim)\n",
        "      }\n",
        "\n",
        "      print(paste(\"Carregou dados para\", Anos[i], \"trimestre\", Trimestres[j]))\n",
        "    } else {\n",
        "      print(paste(\"Dados não disponíveis para\", Anos[i], \"trimestre\", Trimestres[j]))\n",
        "    }\n",
        "  }\n",
        "}\n",
        "\n",
        "# Definir a função selecionar_variaveis\n",
        "selecionar_variaveis <- function(df, variaveis_selecionadas) {\n",
        "  df_selecionado <- df[, colnames(df) %in% variaveis_selecionadas, drop = FALSE]\n",
        "  return(df_selecionado)\n",
        "}\n",
        "\n",
        "# Realizando operações adicionais, se necessário, no dataframe resultado (acrescentar na linha abaixo)\n",
        "\n",
        "\n",
        "# Exibindo as primeiras linhas do dataframe resultado\n",
        "head(resultado)"
      ]
    },
    {
      "cell_type": "markdown",
      "metadata": {
        "id": "1F5HRYY_KqW6"
      },
      "source": [
        "**Escrevendo e salvando arquivo em excel**\n",
        "\n",
        "A primeira vez que você excecutar o script aparecerá um link que abrirá uma nova guia no google, essa guia se refere a biblioteca tidyverse e terá um código de verificação que deve ser copiado e colado no prompt de comando que aparece no script, enquanto isso não for feito o script fica rodando.\n",
        "\n",
        "Se é seu segundo acesso a visualização da caixa de saída será diferente, aparecerá seu e-mail como opção 2. Você deve preencher o prompt de comando com o número 2, isso indica que você forneceu o acesso ao seu google drive anteriormente sem necessidade de repetir o processo."
      ]
    },
    {
      "cell_type": "code",
      "execution_count": null,
      "metadata": {
        "id": "D_cS9uwZK6XH"
      },
      "outputs": [],
      "source": [
        "# Autenticas e autorizar o acesso ao Google Drive:\n",
        "drive_auth(use_oob = TRUE, cache = TRUE)\n",
        "\n",
        "#gravando os dados em um arquivo Excel local\n",
        "write_xlsx(resultado, \"dados_resultado_PNAD.xlsx\")\n",
        "\n",
        "#Upload do arquivo para o Google Drive\n",
        "drive_upload(\"dados_resultado_PNAD.xlsx\", name = \"dados_resultado.PNAD.xlsx\", type = \"xlsx\")\n",
        "\n",
        "# Vai abrir um link do google accounts que abrirá em uma caixa abaixo, ele direcionará você para uma página de\n",
        "# pacotes de API Tidyverse onde terá as instruções para você copiar o código autorizando a bibliote a gravar o arquivo excel com os dados dentro do SEU GOOGLE DRIVE"
      ]
    }
  ],
  "metadata": {
    "colab": {
      "provenance": [],
      "include_colab_link": true
    },
    "kernelspec": {
      "display_name": "R",
      "name": "ir"
    },
    "language_info": {
      "name": "R"
    }
  },
  "nbformat": 4,
  "nbformat_minor": 0
}